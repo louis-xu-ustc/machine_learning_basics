{
 "cells": [
  {
   "cell_type": "markdown",
   "id": "e7755c55",
   "metadata": {},
   "source": [
    "### Precision Recall Curve\n",
    "A precision-recall curve is a plot of the precision (y-axis) and the recall (x-axis) for different thresholds, much like the ROC curve.\n",
    "\n",
    "#### When to use PR AUC? Ref\n",
    "- when you want to communicate precision/recall decisions to other stakeholders\n",
    "- when you want to choose the threshold that fits the business problem.\n",
    "- when your data is heavily imbalanced. As mentioned before, it was discussed extensively in this article by Takaya Saito and Marc Rehmsmeier. The intuition is the following: since PR AUC focuses mainly on the positive class (PPV and TPR) it cares less about the frequent negative class.\n",
    "- when you care more about positive than negative class. If you care more about the positive class and hence PPV and TPR you should go with the Precision-Recall curve and PR AUC (average precision).\n",
    "\n",
    "#### Area Under Curve \n",
    "- like the AUC, summarizes the integral or an approximation of the area under the precision-recall curve.\n",
    "- In terms of model selection, F-Measure summarizes model skill for a specific probability threshold (e.g. 0.5), whereas the area under curve summarizes the skill of a model across thresholds, like ROC AUC"
   ]
  },
  {
   "cell_type": "code",
   "execution_count": 11,
   "id": "db797796",
   "metadata": {},
   "outputs": [],
   "source": [
    "import numpy as np\n",
    "import matplotlib.pyplot as plt"
   ]
  },
  {
   "cell_type": "code",
   "execution_count": 19,
   "id": "84c47b20",
   "metadata": {},
   "outputs": [],
   "source": [
    "class PRAUCv2:\n",
    "    def __init__(self, probabilities: np.array, labels: np.array, thresholds: np.array):\n",
    "        assert(len(predictions) == len(labels)), \"lens of pred and labels doesn't match!\"\n",
    "        self.probabilities = probabilities\n",
    "        self.labels = labels\n",
    "        self.thresholds = thresholds\n",
    "    \n",
    "    def calc_precision_recall(self, predictions):\n",
    "        \"\"\"\n",
    "        calc the precision and recall score based on the given predictions\n",
    "        \"\"\"\n",
    "        prediction_list = list(predictions)\n",
    "        label_list = list(self.labels)\n",
    "        \n",
    "        tp, fp, fn = 0, 0, 0\n",
    "        for pred, label in zip(prediction_list, label_list):\n",
    "            if pred == label == 1:\n",
    "                tp += 1\n",
    "            if pred == 1 and label != pred:\n",
    "                fp += 1\n",
    "            if pred == 0 and label != pred:\n",
    "                fn += 1\n",
    "        \n",
    "        try:\n",
    "            precision = tp/(tp+fp)\n",
    "        except:\n",
    "            precision = 1\n",
    "        \n",
    "        try:\n",
    "            recall = tp/(tp+fn)\n",
    "        except:\n",
    "            recall = 1\n",
    "        \n",
    "        return precision, recall\n",
    "    \n",
    "    def calc_precision_recall_curve(self):\n",
    "        # Containers for true positive / false positive rates\n",
    "        precision_scores = []\n",
    "        recall_scores = []\n",
    "        for thres in self.thresholds:\n",
    "            predictions = []\n",
    "            for prob  in self.probabilities:\n",
    "                if prob > thres:\n",
    "                    predictions.append(1)\n",
    "                else:\n",
    "                    predictions.append(0)\n",
    "                    \n",
    "            precision, recall = self.calc_precision_recall(predictions)\n",
    "        \n",
    "            precision_scores.append(precision)\n",
    "            recall_scores.append(recall)\n",
    "        return np.array(precision_scores), np.array(recall_scores)\n",
    "    \n",
    "    def plot(self, prec, rec):\n",
    "        prec_list = list(prec)\n",
    "        rec_list = list(rec)\n",
    "        plt.plot(rec_list, prec_list)\n",
    "        plt.xlabel(\"Recall\")\n",
    "        plt.ylabel(\"Precision\")\n",
    "        plt.title(\"PR Curve - AUC\")\n",
    "        plt.show()"
   ]
  },
  {
   "cell_type": "code",
   "execution_count": 20,
   "id": "89963f7d",
   "metadata": {},
   "outputs": [
    {
     "data": {
      "image/png": "[encoded data removed]",
      "text/plain": [
       "<Figure size 432x288 with 1 Axes>"
      ]
     },
     "metadata": {
      "needs_background": "light"
     },
     "output_type": "display_data"
    }
   ],
   "source": [
    "probabilities = [0.65,0.1,0.15,0.43,0.97,0.24,0.82,0.7,0.32,0.84]\n",
    "labels = [0, 0, 1, 0, 1, 1, 0, 1, 1, 1]\n",
    "probability_thresholds = np.linspace(0, 1, num=100)\n",
    "pr_auc = PRAUCv2(probabilities, labels, probability_thresholds)\n",
    "prec, rec = pr_auc.calc_precision_recall_curve()\n",
    "pr_auc.plot(prec, rec)"
   ]
  },
  {
   "cell_type": "code",
   "execution_count": 3,
   "id": "52dda555",
   "metadata": {},
   "outputs": [],
   "source": [
    "# Area Under Precision-Recall Curve (PR-AUC)\n",
    "# https://towardsdatascience.com/how-to-efficiently-implement-area-under-precision-recall-curve-pr-auc-a85872fd7f14\n",
    "#  Rank Prediction Label  TP(cumsum) Precision(TP/Rank) Recall(TP/#num)\n",
    "#   1    0.97        1      1            1.0                0.167\n",
    "#   2    0.84        1      2            1.0                0.333\n",
    "#   3    0.82        0      2            0.667              0.333  \n",
    "#   4    0.7         1      3            0.75               0.500\n",
    "class PRAUC:\n",
    "    def __init__(self, predictions: np.array, labels: np.array):\n",
    "        assert(len(predictions) == len(labels)), \"lens of pred and labels don't match\"\n",
    "        self.predictions = predictions\n",
    "        self.labels = labels\n",
    "        \n",
    "    def calc_PR(self):\n",
    "        # sort the entries according to the predicted confidence\n",
    "        idx = np.argsort(self.predictions)[::-1]\n",
    "        predictions = self.predictions[idx]\n",
    "        # labels is either 0 or 1\n",
    "        labels = self.labels[idx]\n",
    "\n",
    "        # calculate cum sum of labels\n",
    "        cumsum = np.cumsum(labels)\n",
    "        # rank is the index starting from 1, and can be used to indicate how many estimations are generated\n",
    "        rank = np.arange(len(predictions)) + 1\n",
    "        # total number of ground truth\n",
    "        num_gts = cumsum[-1]\n",
    "        prec = cumsum / rank\n",
    "        rec = cumsum / num_gts\n",
    "        return prec, rec\n",
    "        \n",
    "    def plot(self, prec, rec):\n",
    "        prec_list = list(prec)\n",
    "        rec_list = list(rec)\n",
    "        plt.plot(rec_list, prec_list)\n",
    "        plt.xlabel(\"Recall\")\n",
    "        plt.ylabel(\"Precision\")\n",
    "        plt.title(\"PR Curve - AUC\")\n",
    "        plt.show()"
   ]
  },
  {
   "cell_type": "code",
   "execution_count": 4,
   "id": "d75d0628",
   "metadata": {},
   "outputs": [
    {
     "data": {
      "image/png": "[encoded data removed]",
      "text/plain": [
       "<Figure size 432x288 with 1 Axes>"
      ]
     },
     "metadata": {
      "needs_background": "light"
     },
     "output_type": "display_data"
    }
   ],
   "source": [
    "probabilities = np.array([0.65,0.1,0.15,0.43,0.97,0.24,0.82,0.7,0.32,0.84])\n",
    "labels = np.array([0, 0, 1, 0, 1, 1, 0, 1, 1, 1])\n",
    "pr_auc = PRAUC(probabilities, labels)\n",
    "prec, rec = pr_auc.calc_PR()\n",
    "pr_auc.plot(prec, rec)"
   ]
  },
  {
   "cell_type": "code",
   "execution_count": null,
   "id": "41a049ff",
   "metadata": {},
   "outputs": [],
   "source": []
  }
 ],
 "metadata": {
  "kernelspec": {
   "display_name": "Python 3 (ipykernel)",
   "language": "python",
   "name": "python3"
  },
  "language_info": {
   "codemirror_mode": {
    "name": "ipython",
    "version": 3
   },
   "file_extension": ".py",
   "mimetype": "text/x-python",
   "name": "python",
   "nbconvert_exporter": "python",
   "pygments_lexer": "ipython3",
   "version": "3.9.7"
  }
 },
 "nbformat": 4,
 "nbformat_minor": 5
}
