{
 "cells": [
  {
   "cell_type": "code",
   "execution_count": 3,
   "id": "4c0aa858",
   "metadata": {},
   "outputs": [],
   "source": [
    "import numpy as np"
   ]
  },
  {
   "cell_type": "code",
   "execution_count": 8,
   "id": "72880025",
   "metadata": {},
   "outputs": [],
   "source": [
    "def get_iou(bb1: tuple[int], bb2: tuple[int]):\n",
    "    \"\"\"\n",
    "    Calculate the Intersection over Union (IoU) of two bounding boxes.\n",
    "\n",
    "    Parameters\n",
    "    ----------\n",
    "    bb1 : tuple: x1, y1, x2, y2\n",
    "        The (bb1[0], bb1[1]) position is at the top left corner,\n",
    "        the (bb1[2], bb1[3]) position is at the bottom right corner\n",
    "    bb1 : tuple\n",
    "        The (bb2[0], bb2[1]) position is at the top left corner,\n",
    "        the (bb2[2], bb2[3]) position is at the bottom right corner\n",
    "\n",
    "    Returns\n",
    "    -------\n",
    "    float\n",
    "        in [0, 1]\n",
    "    \"\"\"\n",
    "    assert bb1[0] <= bb1[2]\n",
    "    assert bb1[1] <= bb1[3]\n",
    "    assert bb2[0] <= bb2[2]\n",
    "    assert bb2[1] <= bb2[3]\n",
    "\n",
    "    # determine the coordinates of the intersection rectangle\n",
    "    x_left = max(bb1[0], bb2[0])\n",
    "    y_top = max(bb1[1], bb2[1])\n",
    "    x_right = min(bb1[2], bb2[2])\n",
    "    y_bottom = min(bb1[3], bb2[3])\n",
    "\n",
    "    # The intersection of two axis-aligned bounding boxes is always an axis-aligned bounding box\n",
    "    # The range of screen coordinates is inclusive:inclusive (inclusive on both ends), so +1 is needed\n",
    "    # in area calculation\n",
    "    intersection_area = max(x_right - x_left + 1, 0) * max(y_bottom - y_top + 1, 0)\n",
    "    if intersection_area == 0:\n",
    "        return 0\n",
    "\n",
    "    # compute the area of both AABBs\n",
    "    bb1_area = (bb1[2] - bb1[0] + 1) * (bb1[3] - bb1[1] + 1)\n",
    "    bb2_area = (bb2[2] - bb2[0] + 1) * (bb2[3] - bb2[1] + 1)\n",
    "    print(\"area1: {}, area2: {}\".format(bb1_area, bb2_area))\n",
    "\n",
    "    # compute the intersection over union by taking the intersection\n",
    "    # area and dividing it by the sum of prediction + ground-truth\n",
    "    # areas - the interesection area\n",
    "    iou = intersection_area / float(bb1_area + bb2_area - intersection_area)\n",
    "    assert iou >= 0.0\n",
    "    assert iou <= 1.0\n",
    "    return iou"
   ]
  },
  {
   "cell_type": "code",
   "execution_count": 9,
   "id": "836cf97e",
   "metadata": {},
   "outputs": [
    {
     "name": "stdout",
     "output_type": "stream",
     "text": [
      "area1: 121.0, area2: 121.0\n",
      "Correct solution - also analytical: 0.704225352112676\n",
      "Solution by published function: 0.704225352113\n",
      "Solution by correction (ptyshevs): 0.680672268908\n"
     ]
    }
   ],
   "source": [
    "boxA = [0., 0., 10., 10.]\n",
    "boxB = [1., 1., 11., 11.]\n",
    "correct = get_iou(boxA, boxB)\n",
    "print('Correct solution - also analytical: {0}\\n'\n",
    "      'Solution by published function: {1}\\n'\n",
    "      'Solution by correction (ptyshevs): {2}'.format(correct, '0.704225352113', '0.680672268908'))"
   ]
  },
  {
   "cell_type": "code",
   "execution_count": null,
   "id": "5d2838dd",
   "metadata": {},
   "outputs": [],
   "source": []
  }
 ],
 "metadata": {
  "kernelspec": {
   "display_name": "Python 3 (ipykernel)",
   "language": "python",
   "name": "python3"
  },
  "language_info": {
   "codemirror_mode": {
    "name": "ipython",
    "version": 3
   },
   "file_extension": ".py",
   "mimetype": "text/x-python",
   "name": "python",
   "nbconvert_exporter": "python",
   "pygments_lexer": "ipython3",
   "version": "3.9.7"
  }
 },
 "nbformat": 4,
 "nbformat_minor": 5
}
