{
 "cells": [
  {
   "cell_type": "code",
   "execution_count": 3,
   "id": "ebb990f4",
   "metadata": {},
   "outputs": [],
   "source": [
    "import numpy as np\n",
    "\n",
    "def softmax(scores: np.array):\n",
    "    \"\"\"\n",
    "    Tranforms matrix of predicted scores to matrix of probabilities\n",
    "\n",
    "    Args:\n",
    "        scores: numpy array of shape (n_samples, n_classes)\n",
    "        with unnormalized scores\n",
    "    Returns:\n",
    "        softmax: numpy array of shape (n_samples, n_classes)\n",
    "        with probabilities\n",
    "    \"\"\"\n",
    "    exp = np.exp(scores)\n",
    "    sum_exp = np.sum(np.exp(scores), axis=1, keepdims=True)\n",
    "    softmax = exp / sum_exp\n",
    "\n",
    "    return softmax"
   ]
  },
  {
   "cell_type": "code",
   "execution_count": 7,
   "id": "2aed502e",
   "metadata": {},
   "outputs": [
    {
     "name": "stdout",
     "output_type": "stream",
     "text": [
      "probabilities: [[0.77514955 0.11593805 0.03859242 0.07031998]]\n"
     ]
    }
   ],
   "source": [
    "logits = np.array([[3.2, 1.3, 0.2, 0.8]])\n",
    "probabilities = softmax(logits)\n",
    "print(\"probabilities: {}\".format(probabilities))"
   ]
  },
  {
   "cell_type": "code",
   "execution_count": 15,
   "id": "7edffc84",
   "metadata": {},
   "outputs": [
    {
     "name": "stdout",
     "output_type": "stream",
     "text": [
      "cross entropy loss: 0.2546993026976594\n"
     ]
    }
   ],
   "source": [
    "y_true = np.array([[1, 0, 0, 0]])\n",
    "y_predict = probabilities\n",
    "X = logits\n",
    "n_samples, _ = X.shape\n",
    "L_CE = (-1/n_samples) * np.sum(y_true * np.log(y_predict) + (1 - y_true) * np.log(1-y_predict))\n",
    "print(\"cross entropy loss: {}\".format(L_CE))"
   ]
  },
  {
   "cell_type": "code",
   "execution_count": null,
   "id": "ef618042",
   "metadata": {},
   "outputs": [],
   "source": []
  }
 ],
 "metadata": {
  "kernelspec": {
   "display_name": "Python 3 (ipykernel)",
   "language": "python",
   "name": "python3"
  },
  "language_info": {
   "codemirror_mode": {
    "name": "ipython",
    "version": 3
   },
   "file_extension": ".py",
   "mimetype": "text/x-python",
   "name": "python",
   "nbconvert_exporter": "python",
   "pygments_lexer": "ipython3",
   "version": "3.9.7"
  }
 },
 "nbformat": 4,
 "nbformat_minor": 5
}
