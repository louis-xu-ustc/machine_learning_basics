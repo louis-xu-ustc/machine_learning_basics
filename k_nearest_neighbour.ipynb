{
 "cells": [
  {
   "cell_type": "markdown",
   "metadata": {},
   "source": [
    "## k-nearest-neighbor algorithm in plain Python\n",
    "\n",
    "The k-nn algorithm is a simple **supervised** machine learning algorithm that can be used both for classification and regression. It's an **instance-based** algorithm. So instead of estimating a model, it stores all training examples in memory and makes predictions using a similarity measure. \n",
    "\n",
    "Given an input example, the k-nn algorithm retrieves the k most similar instances from memory. Similarity is defined in terms of distance, that is, the training examples with the smallest (euclidean) distance to the input example are considered to be most similar.\n",
    "\n",
    "The target value of the input example is computed as follows:  \n",
    "  \n",
    "Classification:  \n",
    "a) unweighted: output the most common classification among the k-nearest neighbors  \n",
    "b) weighted: sum up the weights of the k-nearest neighbors for each classification value, output classification with highest weight  \n",
    "  \n",
    "Regression:  \n",
    "a) unweighted: output the average of the values of the k-nearest neighbors  \n",
    "b) weighted: for all classification values,  sum up classification value$*$weight and divide the result trough the sum of all weights  \n",
    "\n",
    "The weighted k-nn version is a refined version of the algorithm in which the contribution of each neighbor is *weighted* according to its distance to the query point. Below, we implement the basic unweighted version of the k-nn algorithm for the digits dataset from sklearn."
   ]
  },
  {
   "cell_type": "code",
   "execution_count": 2,
   "metadata": {
    "ExecuteTime": {
     "end_time": "2018-03-26T14:32:41.915819Z",
     "start_time": "2018-03-26T14:32:41.094749Z"
    }
   },
   "outputs": [],
   "source": [
    "import numpy as np\n",
    "import matplotlib.pyplot as plt\n",
    "from sklearn.datasets import load_digits\n",
    "from sklearn.model_selection import train_test_split\n",
    "np.random.seed(123)\n",
    "\n",
    "# % matplotlib inline"
   ]
  },
  {
   "cell_type": "markdown",
   "metadata": {},
   "source": [
    "## k-nearest-neighbor class"
   ]
  },
  {
   "cell_type": "code",
   "execution_count": 3,
   "metadata": {},
   "outputs": [],
   "source": [
    "# Nearest neighbor implementation using L1 distance as the similarity measure.\n",
    "# example from CS231n\n",
    "class NearestNeighbor:\n",
    "    def __init__(self):\n",
    "        pass\n",
    "    \n",
    "    def train(self, X: np.array, y: np.array) -> None:\n",
    "        \"\"\"\n",
    "        train function: memorize all data and labels\n",
    "        :param X: N*D where each row is an example, Y is 1-dimension of size N \n",
    "        \"\"\"\n",
    "        self.data = X\n",
    "        self.targets = y\n",
    "        \n",
    "    def predict(self, X: np.array, k=1, use_l1_distance: bool = True) -> np.array:\n",
    "        \"\"\"\n",
    "        predict function: predict the label of the most similar training image.\n",
    "        :param X: N*D where each row is an example we wish to predict the label for.\n",
    "        :param k: hyper parameter k closes neighbors, very problem/dataset-dependent.\n",
    "        :param use_l1_distance: whether to use l1 distance or not.\n",
    "        \"\"\"\n",
    "        n_samples, _ = X.shape\n",
    "        # lets make sure that the output type matches the input type\n",
    "        y_preds = np.zeros(n_samples, dtype=self.targets.dtype)\n",
    "\n",
    "        for i in range(n_samples):\n",
    "            if use_l1_distance:\n",
    "                distances = self._l1_distances(X[i])\n",
    "            else:\n",
    "                distances = self._l2_distances(X[i])\n",
    "            \n",
    "            # optimization: instead of copying label from nearest neighbors, \n",
    "            # take majority vote from k cloest points\n",
    "#             min_index = np.argmin(distances) # get the index with the smallest distance\n",
    "#             y_preds[i] = self.targets[min_index] # predict the label of the nearest example\n",
    "            knn = np.argsort(distances)[:k]\n",
    "            y_knn = self.targets[knn]\n",
    "            max_vote = max(y_knn, key=list(y_knn).count)\n",
    "            y_preds[i] = max_vote\n",
    "            \n",
    "        return y_preds\n",
    "        \n",
    "    def _l1_distances(self, X):\n",
    "        \"\"\"\n",
    "        computes the l1 distance between training data and a new input example X\n",
    "        :param X: 1-dimension of size N\n",
    "        \"\"\"\n",
    "        l1_distances = np.sum(np.abs(self.data - X), axis=1)\n",
    "        return l1_distances\n",
    "    \n",
    "    def _l2_distances(self, X):\n",
    "        \"\"\"\n",
    "        computes the l2 distance between training data and a new input example X\n",
    "        :param X: 1-dimension of size N\n",
    "        \"\"\"\n",
    "        l2_distances = np.sqrt(np.sum((self.data - X)**2, axis=1))\n",
    "        return l2_distances\n",
    "    \n",
    "# Q: with N examples, how fast are training and prediction?\n",
    "# A: Train O(1), Predict O(N)\n",
    "# This is bad, since we want classifiers that're fast at prediction; slow for training is ok"
   ]
  },
  {
   "cell_type": "code",
   "execution_count": 5,
   "metadata": {},
   "outputs": [
    {
     "data": {
      "image/png": "[encoded data removed]",
      "text/plain": [
       "<Figure size 576x432 with 1 Axes>"
      ]
     },
     "metadata": {
      "needs_background": "light"
     },
     "output_type": "display_data"
    },
    {
     "name": "stdout",
     "output_type": "stream",
     "text": [
      "X_train shape: (20, 2)\n",
      "y_train shape: (20, 1)\n",
      "Testing one datapoint, k=1\n",
      "Predicted label: [0. 0. 1. 1.]\n",
      "True label: [[0]\n",
      " [0]\n",
      " [1]\n",
      " [1]]\n"
     ]
    }
   ],
   "source": [
    "import matplotlib.pyplot as plt\n",
    "\n",
    "# Test case\n",
    "data1 = np.random.normal(loc=(10, 4), scale=0.1, size=(10, 2))\n",
    "label1 = np.ones((10, 1))\n",
    "data2 = np.random.normal(loc=(5, 5), scale=0.1, size=(10, 2))\n",
    "label2 = np.zeros((10, 1))\n",
    "X_train = np.vstack((data1, data2))\n",
    "y_train = np.vstack((label1, label2))\n",
    "print(\"X_train shape: {}\".format(X_train.shape))\n",
    "print(\"y_train shape: {}\".format(y_train.shape))\n",
    "\n",
    "# visualize the data\n",
    "plt.figure(figsize=(8, 6))\n",
    "plt.scatter(data1[:, 0], data1[:, 1], marker='.', c='y')\n",
    "plt.scatter(data2[:, 0], data2[:, 1], marker='*', c='r')\n",
    "plt.title(\"data distribution\")\n",
    "plt.show()\n",
    "\n",
    "# train & predict\n",
    "knn = NearestNeighbor()\n",
    "knn.train(X_train, y_train)\n",
    "print(\"Testing one datapoint, k=1\")\n",
    "X_test = np.array([[6, 6], [4, 4], [9, 5], [8, 6]])\n",
    "y_test = np.array([[0], [0], [1], [1]])\n",
    "print(f\"Predicted label: {knn.predict(X_test, k=2, use_l1_distance=False)}\")\n",
    "print(f\"True label: {y_test}\")"
   ]
  },
  {
   "cell_type": "markdown",
   "metadata": {},
   "source": [
    "## Dataset"
   ]
  },
  {
   "cell_type": "code",
   "execution_count": 12,
   "metadata": {},
   "outputs": [
    {
     "name": "stdout",
     "output_type": "stream",
     "text": [
      "X_train shape: (1347, 64)\n",
      "y_train shape: (1347,)\n",
      "X_test shape: (450, 64)\n",
      "y_test shape: (450,)\n"
     ]
    },
    {
     "data": {
      "image/png": "[encoded data removed]",
      "text/plain": [
       "<Figure size 720x576 with 10 Axes>"
      ]
     },
     "metadata": {
      "needs_background": "light"
     },
     "output_type": "display_data"
    },
    {
     "name": "stdout",
     "output_type": "stream",
     "text": [
      "Testing one datapoint, k=1\n",
      "Predicted label: [7 6 1 9 2 7 2 7 3 4]\n",
      "True label: [7 6 1 9 2 7 2 7 3 4]\n"
     ]
    }
   ],
   "source": [
    "# Test 2\n",
    "# We will use the digits dataset as an example. It consists of the 1797 images of hand-written digits. Each digit is\n",
    "# represented by a 64-dimensional vector of pixel values.\n",
    "\n",
    "digits = load_digits()\n",
    "X, y = digits.data, digits.target\n",
    "\n",
    "X_train, X_test, y_train, y_test = train_test_split(X, y)\n",
    "print(f'X_train shape: {X_train.shape}')\n",
    "print(f'y_train shape: {y_train.shape}')\n",
    "print(f'X_test shape: {X_test.shape}')\n",
    "print(f'y_test shape: {y_test.shape}')\n",
    "\n",
    "# Example digits\n",
    "fig = plt.figure(figsize=(10,8))\n",
    "for i in range(10):\n",
    "    ax = fig.add_subplot(2, 5, i+1)\n",
    "    plt.imshow(X[i].reshape((8,8)), cmap='gray')\n",
    "    \n",
    "plt.show()\n",
    "\n",
    "knn_l1 = NearestNeighbor()\n",
    "knn_l1.train(X_train, y_train)\n",
    "print(\"Testing one datapoint, k=1\")\n",
    "print(f\"Predicted label: {knn_l1.predict(X_test[0:10], k=3, use_l1_distance=True)}\")\n",
    "print(f\"True label: {y_test[0:10]}\")"
   ]
  },
  {
   "cell_type": "code",
   "execution_count": null,
   "metadata": {},
   "outputs": [],
   "source": [
    "class kNN():\n",
    "    def __init__(self):\n",
    "        pass\n",
    "\n",
    "    def fit(self, X, y):\n",
    "        self.data = X\n",
    "        self.targets = y\n",
    "\n",
    "    def euclidean_distance(self, X):\n",
    "        \"\"\"\n",
    "        Computes the euclidean distance between the training data and\n",
    "        a new input example or matrix of input examples X\n",
    "        \"\"\"\n",
    "        # input: single data point\n",
    "        if X.ndim == 1:\n",
    "            data = (self.data - X)**2\n",
    "#             print(\"data shape: {}\".format(data.shape))\n",
    "            l2 = np.sqrt(np.sum(data, axis=1))\n",
    "\n",
    "        # input: matrix of data points\n",
    "        if X.ndim == 2:\n",
    "            n_samples, _ = X.shape\n",
    "            l2 = [np.sqrt(np.sum((self.data - X[i])**2, axis=1)) for i in range(n_samples)]\n",
    "\n",
    "        return np.array(l2)\n",
    "\n",
    "    def predict(self, X, k=1):\n",
    "        \"\"\"\n",
    "        Predicts the classification for an input example or matrix of input examples X\n",
    "        \"\"\"\n",
    "        # step 1: compute distance between input and training data\n",
    "        dists = self.euclidean_distance(X)\n",
    "#         print(\"dists shape: {}\".format(dists.shape))\n",
    "\n",
    "        # step 2: find the k nearest neighbors and their classifications\n",
    "        if X.ndim == 1:\n",
    "            knn = np.argsort(dists)[:k]\n",
    "            y_knn = self.targets[knn]\n",
    "            max_vote = max(y_knn, key=list(y_knn).count)\n",
    "            return max_vote\n",
    "\n",
    "        if X.ndim == 2:\n",
    "            knn = np.argsort(dists)[:, :k]\n",
    "            y_knn = self.targets[knn]\n",
    "            n_samples, _ = X.shape\n",
    "            max_votes = [max(y_knn[i], key=list(y_knn[i]).count) for i in range(n_samples)]\n",
    "            return max_votes"
   ]
  },
  {
   "cell_type": "markdown",
   "metadata": {},
   "source": [
    "## Initializing and training the model"
   ]
  },
  {
   "cell_type": "code",
   "execution_count": 14,
   "metadata": {
    "ExecuteTime": {
     "end_time": "2018-03-26T14:33:34.324040Z",
     "start_time": "2018-03-26T14:33:34.282266Z"
    }
   },
   "outputs": [
    {
     "name": "stdout",
     "output_type": "stream",
     "text": [
      "Testing one datapoint, k=1\n",
      "dists shape: (1347,)\n",
      "Predicted label: 3\n",
      "True label: 3\n",
      "\n",
      "Testing one datapoint, k=5\n",
      "dists shape: (1347,)\n",
      "Predicted label: 9\n",
      "True label: 9\n",
      "\n",
      "Testing 10 datapoint, k=1\n",
      "dists shape: (10, 1347)\n",
      "Predicted labels: [3, 1, 0, 7, 4, 0, 0, 5, 1, 6]\n",
      "True labels: [3 1 0 7 4 0 0 5 1 6]\n",
      "\n",
      "Testing 10 datapoint, k=4\n",
      "dists shape: (10, 1347)\n",
      "Predicted labels: [3, 1, 0, 7, 4, 0, 0, 5, 1, 6]\n",
      "True labels: [3 1 0 7 4 0 0 5 1 6]\n",
      "\n"
     ]
    }
   ],
   "source": [
    "knn = kNN()\n",
    "knn.fit(X_train, y_train)\n",
    "\n",
    "print(\"Testing one datapoint, k=1\")\n",
    "print(f\"Predicted label: {knn.predict(X_test[0], k=1)}\")\n",
    "print(f\"True label: {y_test[0]}\")\n",
    "print()\n",
    "print(\"Testing one datapoint, k=5\")\n",
    "print(f\"Predicted label: {knn.predict(X_test[20], k=5)}\")\n",
    "print(f\"True label: {y_test[20]}\")\n",
    "print()\n",
    "print(\"Testing 10 datapoint, k=1\")\n",
    "print(f\"Predicted labels: {knn.predict(X_test[5:15], k=1)}\")\n",
    "print(f\"True labels: {y_test[5:15]}\")\n",
    "print()\n",
    "print(\"Testing 10 datapoint, k=4\")\n",
    "print(f\"Predicted labels: {knn.predict(X_test[5:15], k=4)}\")\n",
    "print(f\"True labels: {y_test[5:15]}\")\n",
    "print()"
   ]
  },
  {
   "cell_type": "markdown",
   "metadata": {},
   "source": [
    "## Accuracy on test set"
   ]
  },
  {
   "cell_type": "code",
   "execution_count": 7,
   "metadata": {
    "ExecuteTime": {
     "end_time": "2018-03-26T14:33:36.781872Z",
     "start_time": "2018-03-26T14:33:36.495726Z"
    }
   },
   "outputs": [
    {
     "name": "stdout",
     "output_type": "stream",
     "text": [
      "Test accuracy with k = 1: 99.11111111111111\n",
      "Test accuracy with k = 5: 98.66666666666667\n"
     ]
    }
   ],
   "source": [
    "# Compute accuracy on test set\n",
    "y_p_test1 = knn.predict(X_test, k=1)\n",
    "test_acc1= np.sum(y_p_test1[0] == y_test)/len(y_p_test1[0]) * 100\n",
    "print(f\"Test accuracy with k = 1: {format(test_acc1)}\")\n",
    "\n",
    "y_p_test5 = knn.predict(X_test, k=5)\n",
    "test_acc5= np.sum(y_p_test5 == y_test)/len(y_p_test5) * 100\n",
    "print(f\"Test accuracy with k = 5: {format(test_acc5)}\")"
   ]
  },
  {
   "cell_type": "code",
   "execution_count": null,
   "metadata": {},
   "outputs": [],
   "source": []
  }
 ],
 "metadata": {
  "anaconda-cloud": {},
  "kernelspec": {
   "display_name": "Python 2",
   "language": "python",
   "name": "python2"
  },
  "language_info": {
   "codemirror_mode": {
    "name": "ipython",
    "version": 3
   },
   "file_extension": ".py",
   "mimetype": "text/x-python",
   "name": "python",
   "nbconvert_exporter": "python",
   "pygments_lexer": "ipython3",
   "version": "3.9.7"
  },
  "toc": {
   "nav_menu": {},
   "number_sections": true,
   "sideBar": true,
   "skip_h1_title": false,
   "title_cell": "Table of Contents",
   "title_sidebar": "Contents",
   "toc_cell": false,
   "toc_position": {},
   "toc_section_display": true,
   "toc_window_display": false
  }
 },
 "nbformat": 4,
 "nbformat_minor": 2
}
