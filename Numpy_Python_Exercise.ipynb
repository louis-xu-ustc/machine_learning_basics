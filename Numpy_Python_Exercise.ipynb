{
 "cells": [
  {
   "cell_type": "code",
   "execution_count": 2,
   "id": "5bff07b2",
   "metadata": {},
   "outputs": [],
   "source": [
    "import numpy as np"
   ]
  },
  {
   "cell_type": "code",
   "execution_count": 3,
   "id": "9bc55e61",
   "metadata": {},
   "outputs": [],
   "source": [
    "url = 'https://archive.ics.uci.edu/ml/machine-learning-databases/iris/iris.data'\n",
    "iris_2d = np.genfromtxt(url, delimiter=',', dtype='object')"
   ]
  },
  {
   "cell_type": "code",
   "execution_count": 11,
   "id": "5d8ac78b",
   "metadata": {},
   "outputs": [
    {
     "name": "stdout",
     "output_type": "stream",
     "text": [
      "iris_2d shape: (150, 5), volume shape: (150,)\n",
      "(150, 1)\n",
      "(150, 6)\n"
     ]
    }
   ],
   "source": [
    "# Solution\n",
    "# Compute volume\n",
    "sepallength = iris_2d[:, 0].astype('float')\n",
    "petallength = iris_2d[:, 2].astype('float')\n",
    "volume = (np.pi * petallength * (sepallength**2))/3\n",
    "\n",
    "print(\"iris_2d shape: {}, volume shape: {}\".format(iris_2d.shape, volume.shape))\n",
    "\n",
    "# Introduce new dimension to match iris_2d's\n",
    "volume = volume[:, np.newaxis]\n",
    "\n",
    "print(volume.shape)\n",
    "\n",
    "# Add the new column\n",
    "out = np.hstack([iris_2d, volume])\n",
    "\n",
    "print(out.shape)"
   ]
  },
  {
   "cell_type": "code",
   "execution_count": 8,
   "id": "fd7d8c18",
   "metadata": {},
   "outputs": [
    {
     "data": {
      "text/plain": [
       "array([[b'5.1', b'3.5', b'1.4', b'0.2', b'Iris-setosa',\n",
       "        38.13265162927291],\n",
       "       [b'4.9', b'3.0', b'1.4', b'0.2', b'Iris-setosa',\n",
       "        35.200498485922445],\n",
       "       [b'4.7', b'3.2', b'1.3', b'0.2', b'Iris-setosa', 30.0723720777127],\n",
       "       [b'4.6', b'3.1', b'1.5', b'0.2', b'Iris-setosa',\n",
       "        33.238050274980004]], dtype=object)"
      ]
     },
     "execution_count": 8,
     "metadata": {},
     "output_type": "execute_result"
    }
   ],
   "source": [
    "out[:4]"
   ]
  },
  {
   "cell_type": "code",
   "execution_count": 15,
   "id": "8cd24ae4",
   "metadata": {},
   "outputs": [
    {
     "name": "stdout",
     "output_type": "stream",
     "text": [
      "[27.62684215 14.64009987 21.80136195 42.39403048  1.23122395  6.95688692]\n",
      "[4 5 1 2 0 3]\n"
     ]
    },
    {
     "data": {
      "text/plain": [
       "array([27.62684215, 14.64009987, 21.80136195, 42.39403048,  6.95688692])"
      ]
     },
     "execution_count": 15,
     "metadata": {},
     "output_type": "execute_result"
    }
   ],
   "source": [
    "# Input\n",
    "np.random.seed(100)\n",
    "a = np.random.uniform(1,50, 6)\n",
    "\n",
    "# Solution:\n",
    "print(a)\n",
    "print(a.argsort())\n",
    "#> [18 7 3 10 15]\n",
    "\n",
    "# Solution 2:\n",
    "np.argpartition(-a, 5)[:5]\n",
    "#> [15 10  3  7 18]\n",
    "\n",
    "# Below methods will get you the values.\n",
    "# Method 1:\n",
    "a[a.argsort()][-5:]\n",
    "\n",
    "# Method 2:\n",
    "np.sort(a)[-5:]\n",
    "\n",
    "# Method 3:\n",
    "np.partition(a, kth=-5)[-5:]\n",
    "\n",
    "# Method 4:\n",
    "a[np.argpartition(-a, 5)][:5]"
   ]
  },
  {
   "cell_type": "code",
   "execution_count": 3,
   "id": "bc7a8bec",
   "metadata": {},
   "outputs": [
    {
     "name": "stdout",
     "output_type": "stream",
     "text": [
      "x:[[3 1 2]\n",
      " [5 4 6]]\n",
      "sorted_x_idx: [[1 2 0]\n",
      " [1 0 2]]\n",
      "shape: (2, 3)\n",
      "y: [[1 2 3]\n",
      " [4 5 6]]\n",
      "col1: [3 5], shape: (2,)\n",
      "[1 4]\n",
      "[2 6]\n",
      "[4 5]\n"
     ]
    }
   ],
   "source": [
    "x = np.array([[3, 1, 2], [5, 4, 6]])\n",
    "print(\"x:{}\".format(x))\n",
    "sorted_x_idx = np.argsort(x)\n",
    "print(\"sorted_x_idx: {}\".format(sorted_x_idx))\n",
    "print(\"shape: {}\".format(sorted_x_idx.shape))\n",
    "y1 = x[0][sorted_x_idx[0]]\n",
    "y2 = x[1][sorted_x_idx[1]]\n",
    "y = np.vstack((y1, y2))\n",
    "print(\"y: {}\".format(y))\n",
    "col1 = x[:, 0]\n",
    "col2 = x[:, 1]\n",
    "col3 = x[:, 2]\n",
    "print(\"col1: {}, shape: {}\".format(col1, col1.shape))\n",
    "print(col2)\n",
    "print(col3)\n",
    "col1_max = np.maximum(4, col1)\n",
    "print(col1_max)"
   ]
  },
  {
   "cell_type": "code",
   "execution_count": 4,
   "id": "51a0ee8d",
   "metadata": {},
   "outputs": [
    {
     "name": "stdout",
     "output_type": "stream",
     "text": [
      "1\n",
      "2\n",
      "3\n"
     ]
    }
   ],
   "source": [
    "X = np.array([1, 2, 3])\n",
    "for data in X:\n",
    "    print(data)"
   ]
  },
  {
   "cell_type": "code",
   "execution_count": 5,
   "id": "ac24faaf",
   "metadata": {},
   "outputs": [
    {
     "data": {
      "text/plain": [
       "array([1, 2, 3])"
      ]
     },
     "execution_count": 5,
     "metadata": {},
     "output_type": "execute_result"
    }
   ],
   "source": [
    "np.squeeze(X)"
   ]
  },
  {
   "cell_type": "code",
   "execution_count": null,
   "id": "f9e3af6e",
   "metadata": {},
   "outputs": [],
   "source": []
  }
 ],
 "metadata": {
  "kernelspec": {
   "display_name": "Python 3 (ipykernel)",
   "language": "python",
   "name": "python3"
  },
  "language_info": {
   "codemirror_mode": {
    "name": "ipython",
    "version": 3
   },
   "file_extension": ".py",
   "mimetype": "text/x-python",
   "name": "python",
   "nbconvert_exporter": "python",
   "pygments_lexer": "ipython3",
   "version": "3.9.7"
  }
 },
 "nbformat": 4,
 "nbformat_minor": 5
}
