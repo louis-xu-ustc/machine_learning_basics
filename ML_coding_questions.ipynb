{
 "cells": [
  {
   "cell_type": "code",
   "execution_count": 3,
   "id": "72891605",
   "metadata": {},
   "outputs": [],
   "source": [
    "import numpy as np"
   ]
  },
  {
   "cell_type": "code",
   "execution_count": 14,
   "id": "f66ce6a3",
   "metadata": {},
   "outputs": [],
   "source": [
    "class Box2D:\n",
    "    def __init__(self, xmin, ymin, xmax, ymax, label=None):\n",
    "        self.xmin = xmin\n",
    "        self.ymin = ymin\n",
    "        self.xmax = xmax\n",
    "        self.ymax = ymax\n",
    "        self.label = label\n",
    "        \n",
    "    def calc_area(self):\n",
    "        w = self.xmax - self.xmin\n",
    "        h = self.ymax - self.ymin\n",
    "        return w*h\n",
    "    \n",
    "    def calc_iou(self, other):\n",
    "        # Compute coordinates of intersection\n",
    "        x1 = max(self.xmin, other.xmin)\n",
    "        x2 = min(self.xmax, other.xmax)\n",
    "        y1 = max(self.ymin, other.ymin)\n",
    "        y2 = min(self.ymax, other.ymax)\n",
    "        \n",
    "        inter_area = max(x2 - x1, 0.0) * max(y2-y1, 0.0)\n",
    "        \n",
    "        iou_ratio = inter_area / (self.calc_area() + other.calc_area() - inter_area)\n",
    "        return iou_ratio\n",
    "    \n",
    "def bb_intersection_over_union(boxA: tuple[int], boxB: tuple[int]):\n",
    "    # determine the (x, y)-coordinates of the intersection rectangle\n",
    "    # \n",
    "    xA = max(boxA[0], boxB[0])\n",
    "    yA = max(boxA[1], boxB[1])\n",
    "    xB = min(boxA[2], boxB[2])\n",
    "    yB = min(boxA[3], boxB[3])\n",
    "\n",
    "    # compute the area of intersection rectangle\n",
    "    interArea = abs(max((xB - xA, 0)) * max((yB - yA), 0))\n",
    "    if interArea == 0:\n",
    "        return 0\n",
    "    # compute the area of both the prediction and ground-truth\n",
    "    # rectangles\n",
    "    boxAArea = abs((boxA[2] - boxA[0]) * (boxA[3] - boxA[1]))\n",
    "    boxBArea = abs((boxB[2] - boxB[0]) * (boxB[3] - boxB[1]))\n",
    "\n",
    "    # compute the intersection over union by taking the intersection\n",
    "    # area and dividing it by the sum of prediction + ground-truth\n",
    "    # areas - the interesection area\n",
    "    iou = interArea / float(boxAArea + boxBArea - interArea)\n",
    "\n",
    "    # return the intersection over union value\n",
    "    return iou\n",
    "    "
   ]
  },
  {
   "cell_type": "code",
   "execution_count": 103,
   "id": "8ea4b2cd",
   "metadata": {},
   "outputs": [
    {
     "name": "stdout",
     "output_type": "stream",
     "text": [
      "Two boxes with overlap\n",
      "Correct solution - also analytical: 0.680672268907563\n",
      "Solution by published function: 0.704225352113\n",
      "Solution by correction (ptyshevs): 0.680672268908\n",
      "Two boxes with no overlap\n",
      "Correct solution - also analytical: 0\n",
      "Solution by published function: 0.0\n",
      "Solution by correction (ptyshevs): 0.0204081632653\n"
     ]
    }
   ],
   "source": [
    "# Pointing out a wrong IoU implementation in https://www.pyimagesearch.com/2016/11/07/intersection-over-union-iou-for-object-detection/\n",
    "print('Two boxes with overlap')\n",
    "boxA = [0., 0., 10., 10.]\n",
    "boxB = [1., 1., 11., 11.]\n",
    "box2DA = Box2D(0., 0., 10., 10.)\n",
    "box2DB = Box2D(1., 1., 11., 11.)\n",
    "\n",
    "correct = bb_intersection_over_union(boxA, boxB)\n",
    "iou = box2DA.calc_iou(box2DB)\n",
    "assert(iou == correct), \"IOU calc results are different!\"\n",
    "print('Correct solution - also analytical: {0}\\n'\n",
    "      'Solution by published function: {1}\\n'\n",
    "      'Solution by correction (ptyshevs): {2}'.format(correct, '0.704225352113', '0.680672268908'))\n",
    "\n",
    "print('Two boxes with no overlap')\n",
    "boxA = [0., 0., 10., 10.]\n",
    "boxB = [12., 12., 22., 22.]\n",
    "box2DA = Box2D(0., 0., 10., 10.)\n",
    "box2DB = Box2D(12., 12., 22., 22.)\n",
    "\n",
    "correct = bb_intersection_over_union(boxA, boxB)\n",
    "iou = box2DA.calc_iou(box2DB)\n",
    "assert(iou == correct), \"IOU calc results are different!\"\n",
    "print('Correct solution - also analytical: {0}\\n'\n",
    "      'Solution by published function: {1}\\n'\n",
    "      'Solution by correction (ptyshevs): {2}'.format(correct, '0.0', '0.0204081632653'))"
   ]
  },
  {
   "cell_type": "code",
   "execution_count": 175,
   "id": "1ed6cdd3",
   "metadata": {},
   "outputs": [],
   "source": [
    "# Receiving operating characteristic (ROC) graph\n",
    "# https://towardsdatascience.com/roc-curve-and-auc-from-scratch-in-numpy-visualized-2612bb9459ab\n",
    "class ROCAUC:\n",
    "    def __init__(self, gts, ests, thresholds):\n",
    "        assert(len(gts) == len(ests)), \"gts and ests are the same!\"\n",
    "        self.gts = gts\n",
    "        self.ests = ests\n",
    "        self.thresholds = thresholds\n",
    "    \n",
    "    def calc_tpr_fpr(self):\n",
    "        \"\"\"Calculate true positive rate and false positive rate for the given thresholds\n",
    "        :param gts: ground truth data\n",
    "        :param ests: estimation data\n",
    "        \"\"\"\n",
    "        gts, ests, thresholds = self.gts, self.ests, self.thresholds\n",
    "        tpr_list = []\n",
    "        fpr_list = []\n",
    "        for thres in thresholds:\n",
    "            tp, fp, tn, fn = 0, 0, 0, 0\n",
    "            for gt, est in zip(gts, ests):\n",
    "                if gt == 1:\n",
    "                    if est >= thres:\n",
    "                        tp += 1\n",
    "                    else:\n",
    "                        fn += 1\n",
    "                else:\n",
    "                    if est >= thres:\n",
    "                        fp += 1\n",
    "                    else:\n",
    "                        tn += 1\n",
    "            tpr = tp/(tp + fn)\n",
    "            fpr = fp/(fp + tn)\n",
    "            tpr_list.append(tpr)\n",
    "            fpr_list.append(fpr)\n",
    "        return tpr_list, fpr_list\n",
    "    \n",
    "    def true_false_positive(self, threshold_vector, y_test):\n",
    "        true_positive = np.equal(threshold_vector, 1) & np.equal(y_test, 1)\n",
    "        true_negative = np.equal(threshold_vector, 0) & np.equal(y_test, 0)\n",
    "        false_positive = np.equal(threshold_vector, 1) & np.equal(y_test, 0)\n",
    "        false_negative = np.equal(threshold_vector, 0) & np.equal(y_test, 1)\n",
    "\n",
    "        tpr = true_positive.sum() / (true_positive.sum() + false_negative.sum())\n",
    "        fpr = false_positive.sum() / (false_positive.sum() + true_negative.sum())\n",
    "\n",
    "        return tpr, fpr\n",
    "    \n",
    "    def calc_tpr_fpr_np(self):\n",
    "        gts, ests, thresholds = self.gts, self.ests, self.thresholds\n",
    "        tpr_list = []\n",
    "        fpr_list = []\n",
    "        for thres in thresholds:\n",
    "            threshold_vector = np.greater_equal(ests, thres).astype(int)\n",
    "            tpr, fpr = self.true_false_positive(threshold_vector, gts)\n",
    "            tpr_list.append(tpr)\n",
    "            fpr_list.append(fpr)\n",
    "        return tpr_list, fpr_list\n",
    "    \n",
    "    def plot(self):\n",
    "        tpr_list, fpr_list = self.calc_tpr_fpr()\n",
    "        tpr_list_np, fpr_list_np = self.calc_tpr_fpr_np()\n",
    "        assert(tpr_list == tpr_list_np)\n",
    "#         print(\"tpr_list: {}, tpr_list_np: {}\".format(tpr_list, tpr_list_np))\n",
    "        thresholds = self.thresholds\n",
    "#         print(\"tpr: {}\\n, fpr: {}\\n, thres: {}\".format(tpr_list, fpr_list, thresholds))\n",
    "        plt.plot(fpr_list, tpr_list)\n",
    "        plt.plot(thresholds,thresholds,'--')\n",
    "        plt.xlabel(\"False Positive Rate (FPR)--->\")\n",
    "        plt.ylabel(\"True Positive Rate (TPR)--->\")\n",
    "        plt.title(\"ROC Curve\")\n",
    "        plt.show()\n",
    "        dx_step=0.0002\n",
    "        area = np.trapz(fpr_list, dx=dx_step)\n",
    "        print(\"AUC:Area under the ROC curve is\", area)"
   ]
  },
  {
   "cell_type": "code",
   "execution_count": 2,
   "id": "fb88eab5",
   "metadata": {},
   "outputs": [
    {
     "ename": "NameError",
     "evalue": "name 'ROCAUC' is not defined",
     "output_type": "error",
     "traceback": [
      "\u001b[0;31m---------------------------------------------------------------------------\u001b[0m",
      "\u001b[0;31mNameError\u001b[0m                                 Traceback (most recent call last)",
      "\u001b[0;32m/tmp/ipykernel_21947/268255780.py\u001b[0m in \u001b[0;36m<module>\u001b[0;34m\u001b[0m\n\u001b[1;32m     19\u001b[0m \u001b[0mests\u001b[0m \u001b[0;34m=\u001b[0m \u001b[0mprob_vector\u001b[0m\u001b[0;34m\u001b[0m\u001b[0;34m\u001b[0m\u001b[0m\n\u001b[1;32m     20\u001b[0m \u001b[0mthresholds\u001b[0m \u001b[0;34m=\u001b[0m \u001b[0mnp\u001b[0m\u001b[0;34m.\u001b[0m\u001b[0mlinspace\u001b[0m\u001b[0;34m(\u001b[0m\u001b[0;36m0\u001b[0m\u001b[0;34m,\u001b[0m \u001b[0;36m1\u001b[0m\u001b[0;34m,\u001b[0m \u001b[0mnum\u001b[0m\u001b[0;34m=\u001b[0m\u001b[0;36m100\u001b[0m\u001b[0;34m)\u001b[0m\u001b[0;34m\u001b[0m\u001b[0;34m\u001b[0m\u001b[0m\n\u001b[0;32m---> 21\u001b[0;31m \u001b[0mroc_auc\u001b[0m \u001b[0;34m=\u001b[0m \u001b[0mROCAUC\u001b[0m\u001b[0;34m(\u001b[0m\u001b[0mgts\u001b[0m\u001b[0;34m,\u001b[0m \u001b[0mests\u001b[0m\u001b[0;34m,\u001b[0m \u001b[0mthresholds\u001b[0m\u001b[0;34m)\u001b[0m\u001b[0;34m\u001b[0m\u001b[0;34m\u001b[0m\u001b[0m\n\u001b[0m\u001b[1;32m     22\u001b[0m \u001b[0mroc_auc\u001b[0m\u001b[0;34m.\u001b[0m\u001b[0mplot\u001b[0m\u001b[0;34m(\u001b[0m\u001b[0;34m)\u001b[0m\u001b[0;34m\u001b[0m\u001b[0;34m\u001b[0m\u001b[0m\n",
      "\u001b[0;31mNameError\u001b[0m: name 'ROCAUC' is not defined"
     ]
    }
   ],
   "source": [
    "from sklearn.datasets import make_classification\n",
    "from sklearn.ensemble import RandomForestClassifier\n",
    "from sklearn.model_selection import train_test_split\n",
    "import pandas as pd\n",
    "import numpy as np\n",
    "from sklearn.metrics import roc_curve\n",
    "import matplotlib.pyplot as plt\n",
    "\n",
    "X, y = make_classification(n_samples=1000, n_informative=10, n_features=20, flip_y=0.2)\n",
    "X_train, X_test, y_train, y_test = train_test_split(X, y, test_size=0.3, random_state=42)\n",
    "\n",
    "model = RandomForestClassifier()\n",
    "model.fit(X_train, y_train)\n",
    "\n",
    "prob_vector = model.predict_proba(X_test)[:, 1]\n",
    "# print(\"gts: {}, est: {}\".format(y_test[:10], prob_vector[:10]))\n",
    "\n",
    "gts = y_test\n",
    "ests = prob_vector\n",
    "thresholds = np.linspace(0, 1, num=100)\n",
    "roc_auc = ROCAUC(gts, ests, thresholds)\n",
    "roc_auc.plot()"
   ]
  },
  {
   "cell_type": "code",
   "execution_count": 113,
   "id": "903c63cc",
   "metadata": {},
   "outputs": [
    {
     "name": "stdout",
     "output_type": "stream",
     "text": [
      "[0 1 2], (3,)\n",
      "[[0 1 2]], (1, 3)\n",
      "[[0]\n",
      " [1]\n",
      " [2]], (3, 1)\n",
      "[[0]\n",
      " [1]\n",
      " [2]], (3, 1)\n"
     ]
    }
   ],
   "source": [
    "p = np.array([0, 1, 2])\n",
    "print(\"{}, {}\".format(p, p.shape))\n",
    "newp = p[np.newaxis, :]\n",
    "print(\"{}, {}\".format(newp, newp.shape))\n",
    "newp2 = p[:, np.newaxis]\n",
    "print(\"{}, {}\".format(newp2, newp2.shape))\n",
    "newp3 = p.reshape(-1, 1)\n",
    "print(\"{}, {}\".format(newp3, newp3.shape))"
   ]
  },
  {
   "cell_type": "code",
   "execution_count": 100,
   "id": "025091e3",
   "metadata": {},
   "outputs": [],
   "source": [
    "class ConfusionMatrix:\n",
    "    def __init__(self, ests, gts):\n",
    "        self.label = sorted(set(gts))\n",
    "        self.matrix = [[0]*len(self.label) for _ in self.label]\n",
    "        assert(len(ests) == len(gts)), \"ests and gts should have the same length.\"\n",
    "        self.ests = ests\n",
    "        self.gts = gts\n",
    "    \n",
    "    def calc_cm(self):\n",
    "        index_map = {key : i for i, key in enumerate(self.label)}\n",
    "        for est, gt in zip(ests, gts):\n",
    "            est_idx = index_map[est]\n",
    "            gt_idx = index_map[gt]\n",
    "            self.matrix[gt_idx][est_idx] += 1\n",
    "        return self.matrix"
   ]
  },
  {
   "cell_type": "code",
   "execution_count": 101,
   "id": "0c490c35",
   "metadata": {},
   "outputs": [
    {
     "name": "stdout",
     "output_type": "stream",
     "text": [
      "cm: [[3, 0, 0], [0, 1, 2], [2, 1, 3]]\n"
     ]
    }
   ],
   "source": [
    "gts = [2, 0, 2, 2, 0, 1, 1, 2, 2, 0, 1, 2]\n",
    "ests = [0, 0, 2, 1, 0, 2, 1, 0, 2, 0, 2, 2]\n",
    "\n",
    "conf_matrix = ConfusionMatrix(ests, gts)\n",
    "cm = conf_matrix.calc_cm()\n",
    "print(\"cm: {}\".format(cm))"
   ]
  },
  {
   "cell_type": "code",
   "execution_count": null,
   "id": "9438aea8",
   "metadata": {},
   "outputs": [],
   "source": []
  }
 ],
 "metadata": {
  "kernelspec": {
   "display_name": "Python 3 (ipykernel)",
   "language": "python",
   "name": "python3"
  },
  "language_info": {
   "codemirror_mode": {
    "name": "ipython",
    "version": 3
   },
   "file_extension": ".py",
   "mimetype": "text/x-python",
   "name": "python",
   "nbconvert_exporter": "python",
   "pygments_lexer": "ipython3",
   "version": "3.9.7"
  }
 },
 "nbformat": 4,
 "nbformat_minor": 5
}
