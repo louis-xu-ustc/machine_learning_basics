{
 "cells": [
  {
   "cell_type": "code",
   "execution_count": 2,
   "id": "81a59be8",
   "metadata": {},
   "outputs": [],
   "source": [
    "from typing import Any\n",
    "import numpy as np"
   ]
  },
  {
   "cell_type": "code",
   "execution_count": 5,
   "id": "9a4e2d75",
   "metadata": {},
   "outputs": [],
   "source": [
    "class ConfMatrix:\n",
    "    def __init__(self, label: list[Any]):\n",
    "        assert(len(label) == len(set(label))), \"label contains duplicate data!\"\n",
    "        self.label = label\n",
    "        self.label2index = {k: i for i, k in enumerate(self.label)}\n",
    "        self.cm = np.zeros((len(self.label), len(self.label)))\n",
    "        \n",
    "    def add(self, gts: list[Any], ests: list[Any]):\n",
    "        assert(len(gts) == len(ests))\n",
    "        for gt, est in zip(gts, ests):\n",
    "            assert gt in self.label, \"invalid gt label: {}\".format(gt)\n",
    "            assert est in self.label, \"invalid est label: {}\".format(est)\n",
    "            gt_index = self.label2index[gt]\n",
    "            est_index = self.label2index[est]\n",
    "            self.cm[gt_index][est_index] += 1\n",
    "            \n",
    "    def get_cm(self):\n",
    "        return self.cm\n",
    "    \n",
    "    def calc_accuracy(self):\n",
    "        \"\"\"calculate accuracy of the estimations \"\"\"\n",
    "        # to prevent zero division\n",
    "        cm_total = np.sum(self.cm)\n",
    "        if cm_total == 0:\n",
    "            cm_total = 1\n",
    "        \n",
    "        acc = np.sum(np.diag(self.cm))/cm_total\n",
    "        return acc\n",
    "    \n",
    "#         ests \n",
    "#  g    [3. 0. 0.]\n",
    "#  t    [0. 1. 2.]\n",
    "#  s    [2. 1. 3.]\n",
    "#est sum[6. 2. 5.]\n",
    "    def calc_precision(self):\n",
    "        \"\"\"calculate the precision of the all estimations\n",
    "           precision = true_positive / all_estimations\n",
    "        \"\"\"\n",
    "        cm = self.cm\n",
    "        # total estimation number for all the classes\n",
    "        totals = cm.sum(axis=0)\n",
    "        # fill 1 to avoid divide-by-zero\n",
    "        totals[totals == 0] = 1\n",
    "#         print(\"cm shape: {}, totals shape: {}, new shape: {}\".format(cm.shape, totals.shape, totals[np.newaxis, :].shape))\n",
    "#         cm = cm / totals[np.newaxis, :]\n",
    "        cm = cm / totals.reshape(1, -1)\n",
    "        return np.diag(cm)\n",
    "    \n",
    "#         ests      gts sum\n",
    "#  g    [3. 0. 0.]   3\n",
    "#  t    [0. 1. 2.]   3\n",
    "#  s    [2. 1. 3.]   6\n",
    "    def calc_recall(self):\n",
    "        \"\"\"calculate the recall of all the estimations \"\"\"\n",
    "        cm = self.cm\n",
    "        # total ground truth number of all the classes\n",
    "        totals = cm.sum(axis=1)\n",
    "        # fill 1 to avoid divide-by-zero\n",
    "        totals[totals == 0] = 1\n",
    "#         cm = cm / totals[:, np.newaxis]\n",
    "        cm = cm / totals.reshape(-1, 1)\n",
    "        return np.diag(cm)\n",
    "    \n",
    "    def calc_f1(self):\n",
    "        precisions = self.calc_precision()\n",
    "        recalls = self.calc_recall()\n",
    "        assert(precisions.shape == recalls.shape), \"precisions and recalls have different shapes\"\n",
    "        f1s_denomminator = precisions + recalls\n",
    "        # fill 1 to avoid divide-by-zero\n",
    "        f1s_denomminator[f1s_denomminator==0] = 1\n",
    "        f1s = 2*np.multiply(precisions, recalls)/f1s_denomminator\n",
    "        return f1s"
   ]
  },
  {
   "cell_type": "code",
   "execution_count": 6,
   "id": "6639bdaa",
   "metadata": {},
   "outputs": [
    {
     "name": "stdout",
     "output_type": "stream",
     "text": [
      "cm: \n",
      "[[3. 0. 0.]\n",
      " [0. 1. 2.]\n",
      " [2. 1. 3.]]\n",
      "acc: 0.58\n",
      "prec: [0.6 0.5 0.6]\n",
      "recall: [1.   0.33 0.5 ]\n",
      "f1s: [0.75 0.4  0.55]\n"
     ]
    }
   ],
   "source": [
    "gts = [2, 0, 2, 2, 0, 1, 1, 2, 2, 0, 1, 2]\n",
    "ests = [0, 0, 2, 1, 0, 2, 1, 0, 2, 0, 2, 2]\n",
    "\n",
    "np.set_printoptions(precision=2)\n",
    "label = set(gts)\n",
    "conf_matrix = ConfMatrix(label=label)\n",
    "conf_matrix.add(gts, ests)\n",
    "cm = conf_matrix.get_cm()\n",
    "print(\"cm: \\n{}\".format(cm))\n",
    "acc = conf_matrix.calc_accuracy()\n",
    "print(\"acc: {:.2f}\".format(acc))\n",
    "prec = conf_matrix.calc_precision()\n",
    "print(\"prec: {}\".format(prec))\n",
    "recall = conf_matrix.calc_recall()\n",
    "print(\"recall: {}\".format(recall))\n",
    "f1s = conf_matrix.calc_f1()\n",
    "print(\"f1s: {}\".format(f1s))"
   ]
  },
  {
   "cell_type": "code",
   "execution_count": null,
   "id": "fc5af146",
   "metadata": {},
   "outputs": [],
   "source": []
  }
 ],
 "metadata": {
  "kernelspec": {
   "display_name": "Python 3 (ipykernel)",
   "language": "python",
   "name": "python3"
  },
  "language_info": {
   "codemirror_mode": {
    "name": "ipython",
    "version": 3
   },
   "file_extension": ".py",
   "mimetype": "text/x-python",
   "name": "python",
   "nbconvert_exporter": "python",
   "pygments_lexer": "ipython3",
   "version": "3.9.7"
  }
 },
 "nbformat": 4,
 "nbformat_minor": 5
}
